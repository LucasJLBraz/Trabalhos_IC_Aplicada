{
 "cells": [
  {
   "cell_type": "markdown",
   "metadata": {},
   "source": [
    "## Análise da Curva ROC para Detecção de Intruso (Atividade 8)\n",
    "\n",
    "Este notebook realiza uma análise mais aprofundada do desempenho dos classificadores na tarefa de controle de acesso (Atividade 8). Em vez de olhar para um único ponto de decisão (o `argmax` da saída), vamos analisar o comportamento do classificador em todos os limiares de decisão possíveis.\n",
    "\n",
    "**Objetivo:** Gerar a Curva ROC (Receiver Operating Characteristic) e calcular a AUC (Area Under the Curve) para os melhores modelos da Atividade 8. Isso nos dá uma medida de desempenho que é independente do limiar de decisão e é o padrão para avaliar classificadores binários em cenários como segurança."
   ]
  },
  {
   "cell_type": "code",
   "metadata": {
    "ExecuteTime": {
     "end_time": "2025-08-28T01:37:35.733673Z",
     "start_time": "2025-08-28T01:37:34.767303Z"
    }
   },
   "source": [
    "import os\n",
    "import sys\n",
    "import numpy as np\n",
    "import pandas as pd\n",
    "import matplotlib.pyplot as plt\n",
    "from sklearn.metrics import roc_curve, auc\n",
    "\n",
    "# Adiciona o diretório raiz do projeto ao path para importar os módulos\n",
    "module_path = os.path.abspath(os.path.join('..', '..'))\n",
    "if module_path not in sys.path:\n",
    "    sys.path.append(module_path)\n",
    "\n",
    "# Importa os componentes necessários do projeto\n",
    "from trabalho_ic_aplicada.dataset_faces import build_face_dataset\n",
    "from src.tc2_faces_A8 import (\n",
    "    train_test_split_stratified, \n",
    "    fit_boxcox_then_zscore, \n",
    "    transform_boxcox_then_zscore, \n",
    "    MQSampler, PLSampler, MLP1HSampler, MLP2HSampler\n",
    ")\n",
    "from trabalho_ic_aplicada.models.pca_np import PCA_np"
   ],
   "outputs": [
    {
     "name": "stderr",
     "output_type": "stream",
     "text": [
      "\u001B[32m2025-08-27 22:37:35.715\u001B[0m | \u001B[1mINFO    \u001B[0m | \u001B[36mtrabalho_ic_aplicada.config\u001B[0m:\u001B[36m<module>\u001B[0m:\u001B[36m11\u001B[0m - \u001B[1mPROJ_ROOT path is: /home/apo-note/Documents/Github/Trabalhos_IC_Aplicada\u001B[0m\n"
     ]
    }
   ],
   "execution_count": 2
  },
  {
   "cell_type": "markdown",
   "metadata": {},
   "source": [
    "### 1. Carregar Dados e Configurações\n",
    "\n",
    "Vamos carregar o dataset completo (incluindo intrusos) e os melhores hiperparâmetros encontrados na Atividade 8, que estão salvos em `results/TC2/tabela4_intruso.csv`."
   ]
  },
  {
   "cell_type": "code",
   "metadata": {
    "ExecuteTime": {
     "end_time": "2025-08-28T01:39:13.094755Z",
     "start_time": "2025-08-28T01:39:12.925856Z"
    }
   },
   "source": [
    "DATA_ROOT = '../../data/raw/Kit_projeto_FACES'\n",
    "RESULTS_DIR = '../../results/TC2'\n",
    "IMG_SIZE = (20, 20)\n",
    "\n",
    "# Carregar dataset\n",
    "X, y, idx2class = build_face_dataset(DATA_ROOT, size=IMG_SIZE)"
   ],
   "outputs": [],
   "execution_count": 7
  },
  {
   "metadata": {
    "ExecuteTime": {
     "end_time": "2025-08-28T01:39:13.649166Z",
     "start_time": "2025-08-28T01:39:13.644641Z"
    }
   },
   "cell_type": "code",
   "source": "idx2class",
   "outputs": [
    {
     "data": {
      "text/plain": [
       "{0: 'subject01',\n",
       " 1: 'subject02',\n",
       " 2: 'subject03',\n",
       " 3: 'subject04',\n",
       " 4: 'subject05',\n",
       " 5: 'subject06',\n",
       " 6: 'subject07',\n",
       " 7: 'subject08',\n",
       " 8: 'subject09',\n",
       " 9: 'subject10',\n",
       " 10: 'subject11',\n",
       " 11: 'subject12',\n",
       " 12: 'subject13',\n",
       " 13: 'subject14',\n",
       " 14: 'subject15'}"
      ]
     },
     "execution_count": 8,
     "metadata": {},
     "output_type": "execute_result"
    }
   ],
   "execution_count": 8
  },
  {
   "metadata": {
    "ExecuteTime": {
     "end_time": "2025-08-28T01:37:48.460304Z",
     "start_time": "2025-08-28T01:37:48.440558Z"
    }
   },
   "cell_type": "code",
   "source": [
    "\n",
    "# Identificar classe do intruso\n",
    "intruder_ids = [k for k, v in idx2class.items() if not v.lower().startswith(\"subject\")]\n",
    "intruder_id = intruder_ids[0]\n",
    "print(f\"Dataset carregado. Shape: {X.shape}, {y.shape}. ID do Intruso: {intruder_id}\")\n",
    "\n",
    "# Carregar melhores parâmetros da Tabela 4\n",
    "try:\n",
    "    df_a8 = pd.read_csv(os.path.join(RESULTS_DIR, 'tabela4_intruso.csv'))\n",
    "    # Converte colunas de string para tipos numéricos adequados\n",
    "    for col in ['LR', 'Epochs', 'L2', 'Clip']:\n",
    "        if col in df_a8.columns:\n",
    "            df_a8[col] = pd.to_numeric(df_a8[col], errors='coerce')\n",
    "    print(\"Tabela de resultados da Atividade 8 carregada.\")\n",
    "except FileNotFoundError:\n",
    "    print(\"Arquivo 'tabela4_intruso.csv' não encontrado. Execute o script da Atividade 8 primeiro.\")\n",
    "    df_a8 = None\n",
    "\n",
    "# Obter q* (dimensão reduzida do PCA)\n",
    "q_star = int(df_a8.iloc[0]['q']) if df_a8 is not None else 10 # Fallback para 10\n",
    "print(f\"Dimensão do PCA (q*): {q_star}\")"
   ],
   "outputs": [
    {
     "ename": "IndexError",
     "evalue": "list index out of range",
     "output_type": "error",
     "traceback": [
      "\u001B[0;31m---------------------------------------------------------------------------\u001B[0m",
      "\u001B[0;31mIndexError\u001B[0m                                Traceback (most recent call last)",
      "Cell \u001B[0;32mIn[6], line 3\u001B[0m\n\u001B[1;32m      1\u001B[0m \u001B[38;5;66;03m# Identificar classe do intruso\u001B[39;00m\n\u001B[1;32m      2\u001B[0m intruder_ids \u001B[38;5;241m=\u001B[39m [k \u001B[38;5;28;01mfor\u001B[39;00m k, v \u001B[38;5;129;01min\u001B[39;00m idx2class\u001B[38;5;241m.\u001B[39mitems() \u001B[38;5;28;01mif\u001B[39;00m \u001B[38;5;129;01mnot\u001B[39;00m v\u001B[38;5;241m.\u001B[39mlower()\u001B[38;5;241m.\u001B[39mstartswith(\u001B[38;5;124m\"\u001B[39m\u001B[38;5;124msubject\u001B[39m\u001B[38;5;124m\"\u001B[39m)]\n\u001B[0;32m----> 3\u001B[0m intruder_id \u001B[38;5;241m=\u001B[39m \u001B[43mintruder_ids\u001B[49m\u001B[43m[\u001B[49m\u001B[38;5;241;43m0\u001B[39;49m\u001B[43m]\u001B[49m\n\u001B[1;32m      4\u001B[0m \u001B[38;5;28mprint\u001B[39m(\u001B[38;5;124mf\u001B[39m\u001B[38;5;124m\"\u001B[39m\u001B[38;5;124mDataset carregado. Shape: \u001B[39m\u001B[38;5;132;01m{\u001B[39;00mX\u001B[38;5;241m.\u001B[39mshape\u001B[38;5;132;01m}\u001B[39;00m\u001B[38;5;124m, \u001B[39m\u001B[38;5;132;01m{\u001B[39;00my\u001B[38;5;241m.\u001B[39mshape\u001B[38;5;132;01m}\u001B[39;00m\u001B[38;5;124m. ID do Intruso: \u001B[39m\u001B[38;5;132;01m{\u001B[39;00mintruder_id\u001B[38;5;132;01m}\u001B[39;00m\u001B[38;5;124m\"\u001B[39m)\n\u001B[1;32m      6\u001B[0m \u001B[38;5;66;03m# Carregar melhores parâmetros da Tabela 4\u001B[39;00m\n",
      "\u001B[0;31mIndexError\u001B[0m: list index out of range"
     ]
    }
   ],
   "execution_count": 6
  },
  {
   "cell_type": "markdown",
   "metadata": {},
   "source": [
    "### 2. Função para Gerar e Plotar a Curva ROC"
   ]
  },
  {
   "cell_type": "code",
   "execution_count": null,
   "metadata": {},
   "outputs": [],
   "source": [
    "def plot_roc_for_model(model_name, X, y, q, intruder_id, params_row, sampler_class):\n",
    "    \"\"\"Treina um modelo com os parâmetros dados, calcula e plota a curva ROC.\"\"\"\n",
    "    # 1. Preparar dados (split, PCA, Box-Cox) - usamos uma semente fixa para consistência\n",
    "    rng = np.random.default_rng(42)\n",
    "    tr, te = train_test_split_stratified(y, 0.8, rng)\n",
    "    Xtr, Xte, ytr, yte = X[tr], X[te], y[tr], y[te]\n",
    "\n",
    "    pca = PCA_np(q=q)\n",
    "    Xtr_p = pca.fit_transform(Xtr, q=q)\n",
    "    Xte_p = pca.transform(Xte, q=q)\n",
    "\n",
    "    Xtr_n, bx_params = fit_boxcox_then_zscore(Xtr_p)\n",
    "    Xte_n = transform_boxcox_then_zscore(Xte_p, bx_params)\n",
    "\n",
    "    # 2. Instanciar e treinar o modelo\n",
    "    params = params_row.to_dict()\n",
    "    # Lida com o formato de 'hidden' que é uma string no CSV\n",
    "    if 'Hidden' in params and isinstance(params['Hidden'], str) and params['Hidden'] != 'nan':\n",
    "        try: params['hidden'] = eval(params['Hidden'])\n",
    "        except: params['hidden'] = None\n",
    "    else:\n",
    "        params['hidden'] = None\n",
    "\n",
    "    # Renomeia colunas para corresponder aos argumentos do construtor\n",
    "    params['lr'] = params.pop('LR', 0.01)\n",
    "    params['epochs'] = int(params.pop('Epochs', 100))\n",
    "    params['l2'] = params.pop('L2', 0.0)\n",
    "    params['clip_grad'] = params.pop('Clip', 5.0)\n",
    "    params['activation'] = params.pop('Act', 'relu')\n",
    "    params['opt'] = params.pop('Opt', 'adam')\n",
    "    \n",
    "    sampler = sampler_class()\n",
    "    model = sampler.to_model(params)\n",
    "    model.fit(Xtr_n, ytr, n_classes=int(y.max()) + 1)\n",
    "\n",
    "    # 3. Obter probabilidades para a classe intruso\n",
    "    probas = model.predict_proba(Xte_n)\n",
    "    probas_intruder = probas[:, intruder_id]\n",
    "    y_true_bin = (yte == intruder_id).astype(int)\n",
    "\n",
    "    # 4. Calcular ROC e AUC\n",
    "    fpr, tpr, thresholds = roc_curve(y_true_bin, probas_intruder)\n",
    "    roc_auc = auc(fpr, tpr)\n",
    "\n",
    "    # 5. Plotar\n",
    "    plt.plot(fpr, tpr, lw=2, label=f'{model_name} (AUC = {roc_auc:.2f})')\n",
    "    return roc_auc"
   ]
  },
  {
   "cell_type": "code",
   "execution_count": null,
   "metadata": {},
   "outputs": [],
   "source": [
    "if df_a8 is not None:\n",
    "    plt.figure(figsize=(10, 8))\n",
    "    \n",
    "    model_map = {\n",
    "        'MQ': MQSampler,\n",
    "        'PL': PLSampler,\n",
    "        'MLP-1H': MLP1HSampler,\n",
    "        'MLP-2H': MLP2HSampler\n",
    "    }\n",
    "\n",
    "    for model_name, sampler_class in model_map.items():\n",
    "        params_row = df_a8[df_a8['Model'] == model_name].iloc[0]\n",
    "        print(f\"Gerando ROC para {model_name}...\")\n",
    "        plot_roc_for_model(model_name, X, y, q_star, intruder_id, params_row, sampler_class)\n",
    "\n",
    "    plt.plot([0, 1], [0, 1], color='navy', lw=2, linestyle='--', label='Aleatório')\n",
    "    plt.xlim([0.0, 1.0])\n",
    "    plt.ylim([0.0, 1.05])\n",
    "    plt.xlabel('Taxa de Falsos Positivos (FPR)')\n",
    "    plt.ylabel('Taxa de Verdadeiros Positivos (TPR)')\n",
    "    plt.title('Curva ROC para Detecção de Intruso (Atividade 8)')\n",
    "    plt.legend(loc='lower right')\n",
    "    plt.grid(True)\n",
    "    plt.savefig(os.path.join(RESULTS_DIR, 'roc_curve_A8.png'), dpi=150)\n",
    "    plt.show()\n",
    "else:\n",
    "    print(\"Não foi possível gerar o gráfico ROC pois a tabela de resultados da A8 não foi carregada.\")"
   ]
  }
 ],
 "metadata": {
  "kernelspec": {
   "display_name": "Python 3",
   "language": "python",
   "name": "python3"
  },
  "language_info": {
   "codemirror_mode": {
    "name": "ipython",
    "version": 3
   },
   "file_extension": ".py",
   "mimetype": "text/x-python",
   "name": "python",
   "nbconvert_exporter": "python",
   "pygments_lexer": "ipython3",
   "version": "3.10.9"
  }
 },
 "nbformat": 4,
 "nbformat_minor": 4
}
