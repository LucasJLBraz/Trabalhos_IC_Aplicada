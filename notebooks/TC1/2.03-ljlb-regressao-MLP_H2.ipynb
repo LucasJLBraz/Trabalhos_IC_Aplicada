{
 "cells": [
  {
   "metadata": {},
   "cell_type": "markdown",
   "source": [
    "# Objetivo: Regressão no dataset \"Real estate valuation\" (UCI), usando MLP.\n",
    "    - Avaliação por validação cruzada k-fold e análise de resíduos.\n"
   ],
   "id": "37e3d695bc0ae64b"
  },
  {
   "metadata": {
    "ExecuteTime": {
     "end_time": "2025-08-10T21:44:13.177329Z",
     "start_time": "2025-08-10T21:44:13.098514Z"
    }
   },
   "cell_type": "code",
   "source": [
    "from ucimlrepo import fetch_ucirepo\n",
    "\n",
    "import numpy as np\n",
    "from sklearn.preprocessing import QuantileTransformer\n",
    "import random\n",
    "import itertools\n",
    "\n",
    "\n",
    "from trabalho_ic_aplicada.models import aux\n",
    "from trabalho_ic_aplicada.models import reg_mlp"
   ],
   "id": "6f0554331fcdbcad",
   "outputs": [
    {
     "name": "stderr",
     "output_type": "stream",
     "text": [
      "\u001B[32m2025-08-10 18:44:13.165\u001B[0m | \u001B[1mINFO    \u001B[0m | \u001B[36mtrabalho_ic_aplicada.config\u001B[0m:\u001B[36m<module>\u001B[0m:\u001B[36m11\u001B[0m - \u001B[1mPROJ_ROOT path is: /home/apo-note/Documents/Github/Trabalhos_IC_Aplicada\u001B[0m\n"
     ]
    }
   ],
   "execution_count": 1
  },
  {
   "metadata": {
    "ExecuteTime": {
     "end_time": "2025-08-10T21:44:14.406372Z",
     "start_time": "2025-08-10T21:44:13.320158Z"
    }
   },
   "cell_type": "code",
   "source": [
    "# fetch dataset\n",
    "real_estate_valuation = fetch_ucirepo(id=477)\n",
    "\n",
    "features = real_estate_valuation.variables.iloc[1:, 0].values\n",
    "# data (as pandas dataframes)\n",
    "X = real_estate_valuation.data.features.to_numpy()\n",
    "\n",
    "# Removendo a primeira coluna (X1 transaction date) que não é um atributo relevante, segundo analise.\n",
    "X = X[:, 1:]\n",
    "\n",
    "y = real_estate_valuation.data.targets.to_numpy().ravel()\n",
    "\n",
    "\n",
    "k_fold = aux.validacao_cruzada_kfold(X,y,k=10)\n"
   ],
   "id": "449857452e3b257",
   "outputs": [],
   "execution_count": 2
  },
  {
   "metadata": {},
   "cell_type": "markdown",
   "source": "### Random Search e Avaliação Melhor Caso MLP.",
   "id": "a5d4016fe9387011"
  },
  {
   "metadata": {
    "ExecuteTime": {
     "end_time": "2025-08-10T21:44:14.459973Z",
     "start_time": "2025-08-10T21:44:14.437613Z"
    }
   },
   "cell_type": "code",
   "source": [
    "\n",
    "\n",
    "def cross_val_mlp(X, y, k_fold, layer_sizes, activation, epochs, lr):\n",
    "    \"\"\"\n",
    "    Executa CV para um MLP com N camadas ocultas (definidas em layer_sizes),\n",
    "    retorna média de R2 e todas as curvas de loss.\n",
    "    \"\"\"\n",
    "    fold_r2 = []\n",
    "    fold_losses = []\n",
    "    for train_idx, test_idx in k_fold:\n",
    "        X_tr, X_te = X[train_idx], X[test_idx]\n",
    "        y_tr, y_te = y[train_idx].reshape(-1,1), y[test_idx].reshape(-1,1)\n",
    "\n",
    "        # Normaliza X (fit no treino, transform no teste)\n",
    "        scaler = QuantileTransformer(\n",
    "            n_quantiles=min(X_tr.shape[0], 1000),\n",
    "            output_distribution='uniform'\n",
    "        )\n",
    "        X_tr_n = scaler.fit_transform(X_tr)\n",
    "        X_te_n = scaler.transform(X_te)\n",
    "\n",
    "        # Treina\n",
    "        W, loss_hist = reg_mlp.train_mlp_regression(\n",
    "            X_tr_n, y_tr,\n",
    "            layer_sizes=layer_sizes,           # ex.: [D, H1, H2, 1]\n",
    "            epochs=epochs,\n",
    "            eta_i=lr, eta_f=lr,\n",
    "            hidden_activation=activation,\n",
    "            output_activation='linear',\n",
    "            verbose=False\n",
    "        )\n",
    "        fold_losses.append(loss_hist)\n",
    "\n",
    "        # Previsão\n",
    "        y_pred = reg_mlp.predict_mlp_regression(X_te_n, W, activation, 'linear').reshape(-1,1)\n",
    "\n",
    "        # Métrica (R²)\n",
    "        _, _, r2, *_ = aux.calcular_metricas(y_te, y_pred, aux)\n",
    "        fold_r2.append(r2)\n",
    "\n",
    "    return np.mean(fold_r2), fold_losses\n",
    "\n",
    "\n",
    "def random_search_2hidden(X, y, k_fold,\n",
    "                          hidden1_list, hidden2_list,\n",
    "                          activations, epochs_list, lrs,\n",
    "                          n_iter=40, seed=42):\n",
    "    \"\"\"\n",
    "    Busca aleatória para MLP com DUAS camadas ocultas.\n",
    "    Otimiza H1 e H2 separadamente.\n",
    "\n",
    "    Parâmetros:\n",
    "        hidden1_list: lista de inteiros para nº de neurônios da 1ª oculta (H1)\n",
    "        hidden2_list: lista de inteiros para nº de neurônios da 2ª oculta (H2)\n",
    "        activations:  lista de strings (ex.: ['relu','tanh','sigmoid'])\n",
    "        epochs_list:  lista de int\n",
    "        lrs:          lista de floats (taxas de aprendizado)\n",
    "        n_iter:       nº de configs aleatórias a avaliar\n",
    "        seed:         semente para reprodutibilidade\n",
    "    \"\"\"\n",
    "    random.seed(seed)\n",
    "    np.random.seed(seed)\n",
    "\n",
    "    # todas as combinações possíveis\n",
    "    all_combinations = list(itertools.product(activations, hidden1_list, hidden2_list, epochs_list, lrs))\n",
    "    # amostra aleatória\n",
    "    sampled = random.sample(all_combinations, min(n_iter, len(all_combinations)))\n",
    "\n",
    "    best = {'score': -np.inf}\n",
    "    for act, h1, h2, ep, lr in sampled:\n",
    "        layer_sizes = [X.shape[1], h1, h2, 1]\n",
    "        mean_r2, _ = cross_val_mlp(X, y, k_fold, layer_sizes, act, ep, lr)\n",
    "        print(f\"Act={act:<7} H1={h1:3d} H2={h2:3d} Ep={ep:3d} LR={lr:.3g} → R²={mean_r2:.4f}\")\n",
    "\n",
    "        if mean_r2 > best['score']:\n",
    "            best.update({\n",
    "                'layer_sizes': layer_sizes,\n",
    "                'activation': act,\n",
    "                'epochs': ep,\n",
    "                'lr': lr,\n",
    "                'score': mean_r2\n",
    "            })\n",
    "\n",
    "    print(\"\\n=== Best config (2 hidden) ===\")\n",
    "    print(best)\n",
    "    return best"
   ],
   "id": "55a76d4588e4b476",
   "outputs": [],
   "execution_count": 3
  },
  {
   "metadata": {
    "ExecuteTime": {
     "end_time": "2025-08-10T22:19:37.168903Z",
     "start_time": "2025-08-10T21:44:14.568559Z"
    }
   },
   "cell_type": "code",
   "source": [
    "\n",
    "# 1) Grid search\n",
    "activations   = ['sigmoid', 'tanh', 'relu', 'leaky_relu']\n",
    "epochs_list   = [100, 200, 300]\n",
    "\n",
    "# 1) Random search\n",
    "best_cfg = random_search_2hidden(\n",
    "    X, y, k_fold,\n",
    "    hidden1_list=[4, 8, 16, 32, 64],\n",
    "    hidden2_list=[4, 8, 16, 32, 64],\n",
    "    activations=activations,\n",
    "    epochs_list=[100, 200, 300],\n",
    "    lrs=[1e-3, 5e-3, 1e-2],\n",
    "    n_iter=40,\n",
    "    seed=42\n",
    ")  # você pode ajustar n_iter"
   ],
   "id": "406dbe0cac1eb002",
   "outputs": [
    {
     "name": "stdout",
     "output_type": "stream",
     "text": [
      "Act=relu    H1= 64 H2= 16 Ep=300 LR=0.001 → R²=0.6179\n",
      "Act=sigmoid H1= 16 H2= 16 Ep=300 LR=0.001 → R²=0.6562\n",
      "Act=sigmoid H1=  4 H2= 16 Ep=300 LR=0.005 → R²=0.6312\n",
      "Act=leaky_relu H1=  8 H2= 64 Ep=200 LR=0.001 → R²=0.6470\n",
      "Act=tanh    H1=  8 H2=  8 Ep=100 LR=0.01 → R²=0.2259\n",
      "Act=tanh    H1=  4 H2= 16 Ep=300 LR=0.005 → R²=0.5982\n",
      "Act=tanh    H1=  4 H2=  4 Ep=200 LR=0.001 → R²=0.6278\n",
      "Act=sigmoid H1= 32 H2=  4 Ep=300 LR=0.005 → R²=0.6613\n"
     ]
    },
    {
     "name": "stderr",
     "output_type": "stream",
     "text": [
      "/home/apo-note/Documents/Github/Trabalhos_IC_Aplicada/trabalho_ic_aplicada/models/reg_mlp.py:120: RuntimeWarning: overflow encountered in matmul\n",
      "  z = W @ current_input_with_bias\n",
      "/home/apo-note/Documents/Github/Trabalhos_IC_Aplicada/trabalho_ic_aplicada/models/reg_mlp.py:120: RuntimeWarning: invalid value encountered in matmul\n",
      "  z = W @ current_input_with_bias\n"
     ]
    },
    {
     "name": "stdout",
     "output_type": "stream",
     "text": [
      "Act=leaky_relu H1=  8 H2= 32 Ep=300 LR=0.005 → R²=nan\n",
      "Act=sigmoid H1= 16 H2=  8 Ep=200 LR=0.01 → R²=0.6521\n"
     ]
    },
    {
     "name": "stderr",
     "output_type": "stream",
     "text": [
      "/home/apo-note/Documents/Github/Trabalhos_IC_Aplicada/trabalho_ic_aplicada/models/reg_mlp.py:120: RuntimeWarning: overflow encountered in matmul\n",
      "  z = W @ current_input_with_bias\n",
      "/home/apo-note/Documents/Github/Trabalhos_IC_Aplicada/trabalho_ic_aplicada/models/reg_mlp.py:120: RuntimeWarning: invalid value encountered in matmul\n",
      "  z = W @ current_input_with_bias\n",
      "/home/apo-note/Documents/Github/Trabalhos_IC_Aplicada/trabalho_ic_aplicada/models/reg_mlp.py:120: RuntimeWarning: overflow encountered in matmul\n",
      "  z = W @ current_input_with_bias\n",
      "/home/apo-note/Documents/Github/Trabalhos_IC_Aplicada/trabalho_ic_aplicada/models/reg_mlp.py:187: RuntimeWarning: invalid value encountered in matmul\n",
      "  error_prev = W_no_bias.T @ delta\n"
     ]
    },
    {
     "name": "stdout",
     "output_type": "stream",
     "text": [
      "Act=leaky_relu H1=  4 H2=  8 Ep=300 LR=0.01 → R²=nan\n"
     ]
    },
    {
     "name": "stderr",
     "output_type": "stream",
     "text": [
      "/home/apo-note/Documents/Github/Trabalhos_IC_Aplicada/trabalho_ic_aplicada/models/reg_mlp.py:120: RuntimeWarning: overflow encountered in matmul\n",
      "  z = W @ current_input_with_bias\n",
      "/home/apo-note/Documents/Github/Trabalhos_IC_Aplicada/trabalho_ic_aplicada/models/reg_mlp.py:120: RuntimeWarning: invalid value encountered in matmul\n",
      "  z = W @ current_input_with_bias\n",
      "/home/apo-note/Documents/Github/Trabalhos_IC_Aplicada/trabalho_ic_aplicada/models/reg_mlp.py:181: RuntimeWarning: overflow encountered in matmul\n",
      "  gradients[i] = delta_col @ activation_row\n",
      "/home/apo-note/Documents/Github/Trabalhos_IC_Aplicada/trabalho_ic_aplicada/models/reg_mlp.py:187: RuntimeWarning: overflow encountered in matmul\n",
      "  error_prev = W_no_bias.T @ delta\n",
      "/home/apo-note/Documents/Github/Trabalhos_IC_Aplicada/trabalho_ic_aplicada/models/reg_mlp.py:187: RuntimeWarning: invalid value encountered in matmul\n",
      "  error_prev = W_no_bias.T @ delta\n",
      "/home/apo-note/Documents/Github/Trabalhos_IC_Aplicada/trabalho_ic_aplicada/models/reg_mlp.py:264: RuntimeWarning: overflow encountered in square\n",
      "  epoch_squared_error += 0.5 * np.sum(error**2)\n",
      "/home/apo-note/Documents/Github/Trabalhos_IC_Aplicada/trabalho_ic_aplicada/models/reg_mlp.py:120: RuntimeWarning: overflow encountered in matmul\n",
      "  z = W @ current_input_with_bias\n",
      "/home/apo-note/Documents/Github/Trabalhos_IC_Aplicada/trabalho_ic_aplicada/models/reg_mlp.py:120: RuntimeWarning: invalid value encountered in matmul\n",
      "  z = W @ current_input_with_bias\n",
      "/home/apo-note/Documents/Github/Trabalhos_IC_Aplicada/trabalho_ic_aplicada/models/reg_mlp.py:264: RuntimeWarning: overflow encountered in square\n",
      "  epoch_squared_error += 0.5 * np.sum(error**2)\n",
      "/home/apo-note/Documents/Github/Trabalhos_IC_Aplicada/trabalho_ic_aplicada/models/reg_mlp.py:120: RuntimeWarning: overflow encountered in matmul\n",
      "  z = W @ current_input_with_bias\n",
      "/home/apo-note/Documents/Github/Trabalhos_IC_Aplicada/trabalho_ic_aplicada/models/reg_mlp.py:120: RuntimeWarning: invalid value encountered in matmul\n",
      "  z = W @ current_input_with_bias\n",
      "/home/apo-note/Documents/Github/Trabalhos_IC_Aplicada/trabalho_ic_aplicada/models/reg_mlp.py:120: RuntimeWarning: overflow encountered in matmul\n",
      "  z = W @ current_input_with_bias\n",
      "/home/apo-note/Documents/Github/Trabalhos_IC_Aplicada/trabalho_ic_aplicada/models/reg_mlp.py:120: RuntimeWarning: invalid value encountered in matmul\n",
      "  z = W @ current_input_with_bias\n",
      "/home/apo-note/Documents/Github/Trabalhos_IC_Aplicada/trabalho_ic_aplicada/models/reg_mlp.py:264: RuntimeWarning: overflow encountered in square\n",
      "  epoch_squared_error += 0.5 * np.sum(error**2)\n",
      "/home/apo-note/Documents/Github/Trabalhos_IC_Aplicada/trabalho_ic_aplicada/models/reg_mlp.py:120: RuntimeWarning: overflow encountered in matmul\n",
      "  z = W @ current_input_with_bias\n",
      "/home/apo-note/Documents/Github/Trabalhos_IC_Aplicada/trabalho_ic_aplicada/models/reg_mlp.py:120: RuntimeWarning: invalid value encountered in matmul\n",
      "  z = W @ current_input_with_bias\n",
      "/home/apo-note/Documents/Github/Trabalhos_IC_Aplicada/trabalho_ic_aplicada/models/reg_mlp.py:120: RuntimeWarning: overflow encountered in matmul\n",
      "  z = W @ current_input_with_bias\n",
      "/home/apo-note/Documents/Github/Trabalhos_IC_Aplicada/trabalho_ic_aplicada/models/reg_mlp.py:120: RuntimeWarning: invalid value encountered in matmul\n",
      "  z = W @ current_input_with_bias\n",
      "/home/apo-note/Documents/Github/Trabalhos_IC_Aplicada/trabalho_ic_aplicada/models/reg_mlp.py:120: RuntimeWarning: overflow encountered in matmul\n",
      "  z = W @ current_input_with_bias\n",
      "/home/apo-note/Documents/Github/Trabalhos_IC_Aplicada/trabalho_ic_aplicada/models/reg_mlp.py:120: RuntimeWarning: invalid value encountered in matmul\n",
      "  z = W @ current_input_with_bias\n"
     ]
    },
    {
     "name": "stdout",
     "output_type": "stream",
     "text": [
      "Act=leaky_relu H1=  8 H2= 64 Ep=100 LR=0.01 → R²=nan\n",
      "Act=relu    H1= 16 H2= 16 Ep=100 LR=0.001 → R²=0.6263\n",
      "Act=sigmoid H1=  8 H2= 64 Ep=300 LR=0.01 → R²=0.6254\n",
      "Act=relu    H1= 32 H2= 16 Ep=100 LR=0.005 → R²=-0.0267\n",
      "Act=tanh    H1= 64 H2= 32 Ep=100 LR=0.001 → R²=0.6577\n",
      "Act=sigmoid H1=  4 H2= 32 Ep=200 LR=0.01 → R²=0.6186\n",
      "Act=sigmoid H1=  4 H2= 32 Ep=200 LR=0.001 → R²=0.6531\n"
     ]
    },
    {
     "ename": "KeyboardInterrupt",
     "evalue": "",
     "output_type": "error",
     "traceback": [
      "\u001B[0;31m---------------------------------------------------------------------------\u001B[0m",
      "\u001B[0;31mKeyboardInterrupt\u001B[0m                         Traceback (most recent call last)",
      "Cell \u001B[0;32mIn[4], line 6\u001B[0m\n\u001B[1;32m      3\u001B[0m epochs_list   \u001B[38;5;241m=\u001B[39m [\u001B[38;5;241m100\u001B[39m, \u001B[38;5;241m200\u001B[39m, \u001B[38;5;241m300\u001B[39m]\n\u001B[1;32m      5\u001B[0m \u001B[38;5;66;03m# 1) Random search\u001B[39;00m\n\u001B[0;32m----> 6\u001B[0m best_cfg \u001B[38;5;241m=\u001B[39m \u001B[43mrandom_search_2hidden\u001B[49m\u001B[43m(\u001B[49m\n\u001B[1;32m      7\u001B[0m \u001B[43m    \u001B[49m\u001B[43mX\u001B[49m\u001B[43m,\u001B[49m\u001B[43m \u001B[49m\u001B[43my\u001B[49m\u001B[43m,\u001B[49m\u001B[43m \u001B[49m\u001B[43mk_fold\u001B[49m\u001B[43m,\u001B[49m\n\u001B[1;32m      8\u001B[0m \u001B[43m    \u001B[49m\u001B[43mhidden1_list\u001B[49m\u001B[38;5;241;43m=\u001B[39;49m\u001B[43m[\u001B[49m\u001B[38;5;241;43m4\u001B[39;49m\u001B[43m,\u001B[49m\u001B[43m \u001B[49m\u001B[38;5;241;43m8\u001B[39;49m\u001B[43m,\u001B[49m\u001B[43m \u001B[49m\u001B[38;5;241;43m16\u001B[39;49m\u001B[43m,\u001B[49m\u001B[43m \u001B[49m\u001B[38;5;241;43m32\u001B[39;49m\u001B[43m,\u001B[49m\u001B[43m \u001B[49m\u001B[38;5;241;43m64\u001B[39;49m\u001B[43m]\u001B[49m\u001B[43m,\u001B[49m\n\u001B[1;32m      9\u001B[0m \u001B[43m    \u001B[49m\u001B[43mhidden2_list\u001B[49m\u001B[38;5;241;43m=\u001B[39;49m\u001B[43m[\u001B[49m\u001B[38;5;241;43m4\u001B[39;49m\u001B[43m,\u001B[49m\u001B[43m \u001B[49m\u001B[38;5;241;43m8\u001B[39;49m\u001B[43m,\u001B[49m\u001B[43m \u001B[49m\u001B[38;5;241;43m16\u001B[39;49m\u001B[43m,\u001B[49m\u001B[43m \u001B[49m\u001B[38;5;241;43m32\u001B[39;49m\u001B[43m,\u001B[49m\u001B[43m \u001B[49m\u001B[38;5;241;43m64\u001B[39;49m\u001B[43m]\u001B[49m\u001B[43m,\u001B[49m\n\u001B[1;32m     10\u001B[0m \u001B[43m    \u001B[49m\u001B[43mactivations\u001B[49m\u001B[38;5;241;43m=\u001B[39;49m\u001B[43mactivations\u001B[49m\u001B[43m,\u001B[49m\n\u001B[1;32m     11\u001B[0m \u001B[43m    \u001B[49m\u001B[43mepochs_list\u001B[49m\u001B[38;5;241;43m=\u001B[39;49m\u001B[43m[\u001B[49m\u001B[38;5;241;43m100\u001B[39;49m\u001B[43m,\u001B[49m\u001B[43m \u001B[49m\u001B[38;5;241;43m200\u001B[39;49m\u001B[43m,\u001B[49m\u001B[43m \u001B[49m\u001B[38;5;241;43m300\u001B[39;49m\u001B[43m]\u001B[49m\u001B[43m,\u001B[49m\n\u001B[1;32m     12\u001B[0m \u001B[43m    \u001B[49m\u001B[43mlrs\u001B[49m\u001B[38;5;241;43m=\u001B[39;49m\u001B[43m[\u001B[49m\u001B[38;5;241;43m1e-3\u001B[39;49m\u001B[43m,\u001B[49m\u001B[43m \u001B[49m\u001B[38;5;241;43m5e-3\u001B[39;49m\u001B[43m,\u001B[49m\u001B[43m \u001B[49m\u001B[38;5;241;43m1e-2\u001B[39;49m\u001B[43m]\u001B[49m\u001B[43m,\u001B[49m\n\u001B[1;32m     13\u001B[0m \u001B[43m    \u001B[49m\u001B[43mn_iter\u001B[49m\u001B[38;5;241;43m=\u001B[39;49m\u001B[38;5;241;43m40\u001B[39;49m\u001B[43m,\u001B[49m\n\u001B[1;32m     14\u001B[0m \u001B[43m    \u001B[49m\u001B[43mseed\u001B[49m\u001B[38;5;241;43m=\u001B[39;49m\u001B[38;5;241;43m42\u001B[39;49m\n\u001B[1;32m     15\u001B[0m \u001B[43m)\u001B[49m  \u001B[38;5;66;03m# você pode ajustar n_iter\u001B[39;00m\n",
      "Cell \u001B[0;32mIn[3], line 70\u001B[0m, in \u001B[0;36mrandom_search_2hidden\u001B[0;34m(X, y, k_fold, hidden1_list, hidden2_list, activations, epochs_list, lrs, n_iter, seed)\u001B[0m\n\u001B[1;32m     68\u001B[0m \u001B[38;5;28;01mfor\u001B[39;00m act, h1, h2, ep, lr \u001B[38;5;129;01min\u001B[39;00m sampled:\n\u001B[1;32m     69\u001B[0m     layer_sizes \u001B[38;5;241m=\u001B[39m [X\u001B[38;5;241m.\u001B[39mshape[\u001B[38;5;241m1\u001B[39m], h1, h2, \u001B[38;5;241m1\u001B[39m]\n\u001B[0;32m---> 70\u001B[0m     mean_r2, _ \u001B[38;5;241m=\u001B[39m \u001B[43mcross_val_mlp\u001B[49m\u001B[43m(\u001B[49m\u001B[43mX\u001B[49m\u001B[43m,\u001B[49m\u001B[43m \u001B[49m\u001B[43my\u001B[49m\u001B[43m,\u001B[49m\u001B[43m \u001B[49m\u001B[43mk_fold\u001B[49m\u001B[43m,\u001B[49m\u001B[43m \u001B[49m\u001B[43mlayer_sizes\u001B[49m\u001B[43m,\u001B[49m\u001B[43m \u001B[49m\u001B[43mact\u001B[49m\u001B[43m,\u001B[49m\u001B[43m \u001B[49m\u001B[43mep\u001B[49m\u001B[43m,\u001B[49m\u001B[43m \u001B[49m\u001B[43mlr\u001B[49m\u001B[43m)\u001B[49m\n\u001B[1;32m     71\u001B[0m     \u001B[38;5;28mprint\u001B[39m(\u001B[38;5;124mf\u001B[39m\u001B[38;5;124m\"\u001B[39m\u001B[38;5;124mAct=\u001B[39m\u001B[38;5;132;01m{\u001B[39;00mact\u001B[38;5;132;01m:\u001B[39;00m\u001B[38;5;124m<7\u001B[39m\u001B[38;5;132;01m}\u001B[39;00m\u001B[38;5;124m H1=\u001B[39m\u001B[38;5;132;01m{\u001B[39;00mh1\u001B[38;5;132;01m:\u001B[39;00m\u001B[38;5;124m3d\u001B[39m\u001B[38;5;132;01m}\u001B[39;00m\u001B[38;5;124m H2=\u001B[39m\u001B[38;5;132;01m{\u001B[39;00mh2\u001B[38;5;132;01m:\u001B[39;00m\u001B[38;5;124m3d\u001B[39m\u001B[38;5;132;01m}\u001B[39;00m\u001B[38;5;124m Ep=\u001B[39m\u001B[38;5;132;01m{\u001B[39;00mep\u001B[38;5;132;01m:\u001B[39;00m\u001B[38;5;124m3d\u001B[39m\u001B[38;5;132;01m}\u001B[39;00m\u001B[38;5;124m LR=\u001B[39m\u001B[38;5;132;01m{\u001B[39;00mlr\u001B[38;5;132;01m:\u001B[39;00m\u001B[38;5;124m.3g\u001B[39m\u001B[38;5;132;01m}\u001B[39;00m\u001B[38;5;124m → R²=\u001B[39m\u001B[38;5;132;01m{\u001B[39;00mmean_r2\u001B[38;5;132;01m:\u001B[39;00m\u001B[38;5;124m.4f\u001B[39m\u001B[38;5;132;01m}\u001B[39;00m\u001B[38;5;124m\"\u001B[39m)\n\u001B[1;32m     73\u001B[0m     \u001B[38;5;28;01mif\u001B[39;00m mean_r2 \u001B[38;5;241m>\u001B[39m best[\u001B[38;5;124m'\u001B[39m\u001B[38;5;124mscore\u001B[39m\u001B[38;5;124m'\u001B[39m]:\n",
      "Cell \u001B[0;32mIn[3], line 21\u001B[0m, in \u001B[0;36mcross_val_mlp\u001B[0;34m(X, y, k_fold, layer_sizes, activation, epochs, lr)\u001B[0m\n\u001B[1;32m     18\u001B[0m X_te_n \u001B[38;5;241m=\u001B[39m scaler\u001B[38;5;241m.\u001B[39mtransform(X_te)\n\u001B[1;32m     20\u001B[0m \u001B[38;5;66;03m# Treina\u001B[39;00m\n\u001B[0;32m---> 21\u001B[0m W, loss_hist \u001B[38;5;241m=\u001B[39m \u001B[43mreg_mlp\u001B[49m\u001B[38;5;241;43m.\u001B[39;49m\u001B[43mtrain_mlp_regression\u001B[49m\u001B[43m(\u001B[49m\n\u001B[1;32m     22\u001B[0m \u001B[43m    \u001B[49m\u001B[43mX_tr_n\u001B[49m\u001B[43m,\u001B[49m\u001B[43m \u001B[49m\u001B[43my_tr\u001B[49m\u001B[43m,\u001B[49m\n\u001B[1;32m     23\u001B[0m \u001B[43m    \u001B[49m\u001B[43mlayer_sizes\u001B[49m\u001B[38;5;241;43m=\u001B[39;49m\u001B[43mlayer_sizes\u001B[49m\u001B[43m,\u001B[49m\u001B[43m           \u001B[49m\u001B[38;5;66;43;03m# ex.: [D, H1, H2, 1]\u001B[39;49;00m\n\u001B[1;32m     24\u001B[0m \u001B[43m    \u001B[49m\u001B[43mepochs\u001B[49m\u001B[38;5;241;43m=\u001B[39;49m\u001B[43mepochs\u001B[49m\u001B[43m,\u001B[49m\n\u001B[1;32m     25\u001B[0m \u001B[43m    \u001B[49m\u001B[43meta_i\u001B[49m\u001B[38;5;241;43m=\u001B[39;49m\u001B[43mlr\u001B[49m\u001B[43m,\u001B[49m\u001B[43m \u001B[49m\u001B[43meta_f\u001B[49m\u001B[38;5;241;43m=\u001B[39;49m\u001B[43mlr\u001B[49m\u001B[43m,\u001B[49m\n\u001B[1;32m     26\u001B[0m \u001B[43m    \u001B[49m\u001B[43mhidden_activation\u001B[49m\u001B[38;5;241;43m=\u001B[39;49m\u001B[43mactivation\u001B[49m\u001B[43m,\u001B[49m\n\u001B[1;32m     27\u001B[0m \u001B[43m    \u001B[49m\u001B[43moutput_activation\u001B[49m\u001B[38;5;241;43m=\u001B[39;49m\u001B[38;5;124;43m'\u001B[39;49m\u001B[38;5;124;43mlinear\u001B[39;49m\u001B[38;5;124;43m'\u001B[39;49m\u001B[43m,\u001B[49m\n\u001B[1;32m     28\u001B[0m \u001B[43m    \u001B[49m\u001B[43mverbose\u001B[49m\u001B[38;5;241;43m=\u001B[39;49m\u001B[38;5;28;43;01mFalse\u001B[39;49;00m\n\u001B[1;32m     29\u001B[0m \u001B[43m\u001B[49m\u001B[43m)\u001B[49m\n\u001B[1;32m     30\u001B[0m fold_losses\u001B[38;5;241m.\u001B[39mappend(loss_hist)\n\u001B[1;32m     32\u001B[0m \u001B[38;5;66;03m# Previsão\u001B[39;00m\n",
      "File \u001B[0;32m~/Documents/Github/Trabalhos_IC_Aplicada/trabalho_ic_aplicada/models/reg_mlp.py:256\u001B[0m, in \u001B[0;36mtrain_mlp_regression\u001B[0;34m(X_train, y_train, layer_sizes, epochs, eta_i, eta_f, hidden_activation, output_activation, verbose)\u001B[0m\n\u001B[1;32m    253\u001B[0m y_target \u001B[38;5;241m=\u001B[39m y_train_shuffled[i]\n\u001B[1;32m    255\u001B[0m \u001B[38;5;66;03m# Forward pass\u001B[39;00m\n\u001B[0;32m--> 256\u001B[0m activations, z_values \u001B[38;5;241m=\u001B[39m \u001B[43mforward_pass\u001B[49m\u001B[43m(\u001B[49m\u001B[43mx_sample\u001B[49m\u001B[43m,\u001B[49m\u001B[43m \u001B[49m\u001B[43mweights\u001B[49m\u001B[43m,\u001B[49m\n\u001B[1;32m    257\u001B[0m \u001B[43m                                   \u001B[49m\u001B[43mhidden_activation\u001B[49m\u001B[43m,\u001B[49m\u001B[43m \u001B[49m\u001B[43moutput_activation\u001B[49m\u001B[43m)\u001B[49m\n\u001B[1;32m    259\u001B[0m \u001B[38;5;66;03m# Backward pass\u001B[39;00m\n\u001B[1;32m    260\u001B[0m gradients, error \u001B[38;5;241m=\u001B[39m backward_pass(activations, z_values, weights,\n\u001B[1;32m    261\u001B[0m                                y_target, hidden_activation, output_activation)\n",
      "File \u001B[0;32m~/Documents/Github/Trabalhos_IC_Aplicada/trabalho_ic_aplicada/models/reg_mlp.py:117\u001B[0m, in \u001B[0;36mforward_pass\u001B[0;34m(x_sample, weights, hidden_activation, output_activation)\u001B[0m\n\u001B[1;32m    113\u001B[0m current_input \u001B[38;5;241m=\u001B[39m x_sample\n\u001B[1;32m    115\u001B[0m \u001B[38;5;28;01mfor\u001B[39;00m i, W \u001B[38;5;129;01min\u001B[39;00m \u001B[38;5;28menumerate\u001B[39m(weights):\n\u001B[1;32m    116\u001B[0m     \u001B[38;5;66;03m# Add bias term\u001B[39;00m\n\u001B[0;32m--> 117\u001B[0m     current_input_with_bias \u001B[38;5;241m=\u001B[39m \u001B[43mnp\u001B[49m\u001B[38;5;241;43m.\u001B[39;49m\u001B[43minsert\u001B[49m\u001B[43m(\u001B[49m\u001B[43mcurrent_input\u001B[49m\u001B[43m,\u001B[49m\u001B[43m \u001B[49m\u001B[38;5;241;43m0\u001B[39;49m\u001B[43m,\u001B[49m\u001B[43m \u001B[49m\u001B[38;5;241;43m-\u001B[39;49m\u001B[38;5;241;43m1\u001B[39;49m\u001B[43m)\u001B[49m\n\u001B[1;32m    119\u001B[0m     \u001B[38;5;66;03m# Linear combination\u001B[39;00m\n\u001B[1;32m    120\u001B[0m     z \u001B[38;5;241m=\u001B[39m W \u001B[38;5;241m@\u001B[39m current_input_with_bias\n",
      "File \u001B[0;32m~/Documents/Github/Trabalhos_IC_Aplicada/.venv/lib/python3.10/site-packages/numpy/lib/_function_base_impl.py:5601\u001B[0m, in \u001B[0;36minsert\u001B[0;34m(arr, obj, values, axis)\u001B[0m\n\u001B[1;32m   5596\u001B[0m values \u001B[38;5;241m=\u001B[39m array(values, copy\u001B[38;5;241m=\u001B[39m\u001B[38;5;28;01mNone\u001B[39;00m, ndmin\u001B[38;5;241m=\u001B[39marr\u001B[38;5;241m.\u001B[39mndim, dtype\u001B[38;5;241m=\u001B[39marr\u001B[38;5;241m.\u001B[39mdtype)\n\u001B[1;32m   5597\u001B[0m \u001B[38;5;28;01mif\u001B[39;00m indices\u001B[38;5;241m.\u001B[39mndim \u001B[38;5;241m==\u001B[39m \u001B[38;5;241m0\u001B[39m:\n\u001B[1;32m   5598\u001B[0m     \u001B[38;5;66;03m# broadcasting is very different here, since a[:,0,:] = ... behaves\u001B[39;00m\n\u001B[1;32m   5599\u001B[0m     \u001B[38;5;66;03m# very different from a[:,[0],:] = ...! This changes values so that\u001B[39;00m\n\u001B[1;32m   5600\u001B[0m     \u001B[38;5;66;03m# it works likes the second case. (here a[:,0:1,:])\u001B[39;00m\n\u001B[0;32m-> 5601\u001B[0m     values \u001B[38;5;241m=\u001B[39m \u001B[43mnp\u001B[49m\u001B[38;5;241;43m.\u001B[39;49m\u001B[43mmoveaxis\u001B[49m\u001B[43m(\u001B[49m\u001B[43mvalues\u001B[49m\u001B[43m,\u001B[49m\u001B[43m \u001B[49m\u001B[38;5;241;43m0\u001B[39;49m\u001B[43m,\u001B[49m\u001B[43m \u001B[49m\u001B[43maxis\u001B[49m\u001B[43m)\u001B[49m\n\u001B[1;32m   5602\u001B[0m numnew \u001B[38;5;241m=\u001B[39m values\u001B[38;5;241m.\u001B[39mshape[axis]\n\u001B[1;32m   5603\u001B[0m newshape[axis] \u001B[38;5;241m+\u001B[39m\u001B[38;5;241m=\u001B[39m numnew\n",
      "\u001B[0;31mKeyboardInterrupt\u001B[0m: "
     ]
    }
   ],
   "execution_count": 4
  },
  {
   "metadata": {},
   "cell_type": "code",
   "outputs": [
    {
     "ename": "KeyboardInterrupt",
     "evalue": "",
     "output_type": "error",
     "traceback": [
      "\u001B[0;31m---------------------------------------------------------------------------\u001B[0m",
      "\u001B[0;31mKeyboardInterrupt\u001B[0m                         Traceback (most recent call last)",
      "Cell \u001B[0;32mIn[4], line 6\u001B[0m\n\u001B[1;32m      3\u001B[0m epochs_list   \u001B[38;5;241m=\u001B[39m [\u001B[38;5;241m100\u001B[39m, \u001B[38;5;241m200\u001B[39m, \u001B[38;5;241m300\u001B[39m]\n\u001B[1;32m      5\u001B[0m \u001B[38;5;66;03m# 1) Random search\u001B[39;00m\n\u001B[0;32m----> 6\u001B[0m best_cfg \u001B[38;5;241m=\u001B[39m \u001B[43mrandom_search_2hidden\u001B[49m\u001B[43m(\u001B[49m\n\u001B[1;32m      7\u001B[0m \u001B[43m    \u001B[49m\u001B[43mX\u001B[49m\u001B[43m,\u001B[49m\u001B[43m \u001B[49m\u001B[43my\u001B[49m\u001B[43m,\u001B[49m\u001B[43m \u001B[49m\u001B[43mk_fold\u001B[49m\u001B[43m,\u001B[49m\n\u001B[1;32m      8\u001B[0m \u001B[43m    \u001B[49m\u001B[43mhidden1_list\u001B[49m\u001B[38;5;241;43m=\u001B[39;49m\u001B[43m[\u001B[49m\u001B[38;5;241;43m4\u001B[39;49m\u001B[43m,\u001B[49m\u001B[43m \u001B[49m\u001B[38;5;241;43m8\u001B[39;49m\u001B[43m,\u001B[49m\u001B[43m \u001B[49m\u001B[38;5;241;43m16\u001B[39;49m\u001B[43m,\u001B[49m\u001B[43m \u001B[49m\u001B[38;5;241;43m32\u001B[39;49m\u001B[43m,\u001B[49m\u001B[43m \u001B[49m\u001B[38;5;241;43m64\u001B[39;49m\u001B[43m]\u001B[49m\u001B[43m,\u001B[49m\n\u001B[1;32m      9\u001B[0m \u001B[43m    \u001B[49m\u001B[43mhidden2_list\u001B[49m\u001B[38;5;241;43m=\u001B[39;49m\u001B[43m[\u001B[49m\u001B[38;5;241;43m4\u001B[39;49m\u001B[43m,\u001B[49m\u001B[43m \u001B[49m\u001B[38;5;241;43m8\u001B[39;49m\u001B[43m,\u001B[49m\u001B[43m \u001B[49m\u001B[38;5;241;43m16\u001B[39;49m\u001B[43m,\u001B[49m\u001B[43m \u001B[49m\u001B[38;5;241;43m32\u001B[39;49m\u001B[43m,\u001B[49m\u001B[43m \u001B[49m\u001B[38;5;241;43m64\u001B[39;49m\u001B[43m]\u001B[49m\u001B[43m,\u001B[49m\n\u001B[1;32m     10\u001B[0m \u001B[43m    \u001B[49m\u001B[43mactivations\u001B[49m\u001B[38;5;241;43m=\u001B[39;49m\u001B[43mactivations\u001B[49m\u001B[43m,\u001B[49m\n\u001B[1;32m     11\u001B[0m \u001B[43m    \u001B[49m\u001B[43mepochs_list\u001B[49m\u001B[38;5;241;43m=\u001B[39;49m\u001B[43m[\u001B[49m\u001B[38;5;241;43m100\u001B[39;49m\u001B[43m,\u001B[49m\u001B[43m \u001B[49m\u001B[38;5;241;43m200\u001B[39;49m\u001B[43m,\u001B[49m\u001B[43m \u001B[49m\u001B[38;5;241;43m300\u001B[39;49m\u001B[43m]\u001B[49m\u001B[43m,\u001B[49m\n\u001B[1;32m     12\u001B[0m \u001B[43m    \u001B[49m\u001B[43mlrs\u001B[49m\u001B[38;5;241;43m=\u001B[39;49m\u001B[43m[\u001B[49m\u001B[38;5;241;43m1e-3\u001B[39;49m\u001B[43m,\u001B[49m\u001B[43m \u001B[49m\u001B[38;5;241;43m5e-3\u001B[39;49m\u001B[43m,\u001B[49m\u001B[43m \u001B[49m\u001B[38;5;241;43m1e-2\u001B[39;49m\u001B[43m]\u001B[49m\u001B[43m,\u001B[49m\n\u001B[1;32m     13\u001B[0m \u001B[43m    \u001B[49m\u001B[43mn_iter\u001B[49m\u001B[38;5;241;43m=\u001B[39;49m\u001B[38;5;241;43m40\u001B[39;49m\u001B[43m,\u001B[49m\n\u001B[1;32m     14\u001B[0m \u001B[43m    \u001B[49m\u001B[43mseed\u001B[49m\u001B[38;5;241;43m=\u001B[39;49m\u001B[38;5;241;43m42\u001B[39;49m\n\u001B[1;32m     15\u001B[0m \u001B[43m)\u001B[49m  \u001B[38;5;66;03m# você pode ajustar n_iter\u001B[39;00m\n\u001B[1;32m     17\u001B[0m \u001B[38;5;66;03m# best_cfg = grid_search(X, y, k_fold,\u001B[39;00m\n\u001B[1;32m     18\u001B[0m \u001B[38;5;66;03m#                        hidden_units, activations,\u001B[39;00m\n\u001B[1;32m     19\u001B[0m \u001B[38;5;66;03m#                        epochs_list, learning_rates)\u001B[39;00m\n\u001B[1;32m     20\u001B[0m \n\u001B[1;32m     21\u001B[0m \u001B[38;5;66;03m# 2) Treino final com CV para coletar tudo\u001B[39;00m\n\u001B[1;32m     22\u001B[0m ls   \u001B[38;5;241m=\u001B[39m best_cfg[\u001B[38;5;124m'\u001B[39m\u001B[38;5;124mlayer_sizes\u001B[39m\u001B[38;5;124m'\u001B[39m]\n",
      "Cell \u001B[0;32mIn[3], line 70\u001B[0m, in \u001B[0;36mrandom_search_2hidden\u001B[0;34m(X, y, k_fold, hidden1_list, hidden2_list, activations, epochs_list, lrs, n_iter, seed)\u001B[0m\n\u001B[1;32m     68\u001B[0m \u001B[38;5;28;01mfor\u001B[39;00m act, h1, h2, ep, lr \u001B[38;5;129;01min\u001B[39;00m sampled:\n\u001B[1;32m     69\u001B[0m     layer_sizes \u001B[38;5;241m=\u001B[39m [X\u001B[38;5;241m.\u001B[39mshape[\u001B[38;5;241m1\u001B[39m], h1, h2, \u001B[38;5;241m1\u001B[39m]\n\u001B[0;32m---> 70\u001B[0m     mean_r2, _ \u001B[38;5;241m=\u001B[39m \u001B[43mcross_val_mlp\u001B[49m\u001B[43m(\u001B[49m\u001B[43mX\u001B[49m\u001B[43m,\u001B[49m\u001B[43m \u001B[49m\u001B[43my\u001B[49m\u001B[43m,\u001B[49m\u001B[43m \u001B[49m\u001B[43mk_fold\u001B[49m\u001B[43m,\u001B[49m\u001B[43m \u001B[49m\u001B[43mlayer_sizes\u001B[49m\u001B[43m,\u001B[49m\u001B[43m \u001B[49m\u001B[43mact\u001B[49m\u001B[43m,\u001B[49m\u001B[43m \u001B[49m\u001B[43mep\u001B[49m\u001B[43m,\u001B[49m\u001B[43m \u001B[49m\u001B[43mlr\u001B[49m\u001B[43m)\u001B[49m\n\u001B[1;32m     71\u001B[0m     \u001B[38;5;28mprint\u001B[39m(\u001B[38;5;124mf\u001B[39m\u001B[38;5;124m\"\u001B[39m\u001B[38;5;124mAct=\u001B[39m\u001B[38;5;132;01m{\u001B[39;00mact\u001B[38;5;132;01m:\u001B[39;00m\u001B[38;5;124m<7\u001B[39m\u001B[38;5;132;01m}\u001B[39;00m\u001B[38;5;124m H1=\u001B[39m\u001B[38;5;132;01m{\u001B[39;00mh1\u001B[38;5;132;01m:\u001B[39;00m\u001B[38;5;124m3d\u001B[39m\u001B[38;5;132;01m}\u001B[39;00m\u001B[38;5;124m H2=\u001B[39m\u001B[38;5;132;01m{\u001B[39;00mh2\u001B[38;5;132;01m:\u001B[39;00m\u001B[38;5;124m3d\u001B[39m\u001B[38;5;132;01m}\u001B[39;00m\u001B[38;5;124m Ep=\u001B[39m\u001B[38;5;132;01m{\u001B[39;00mep\u001B[38;5;132;01m:\u001B[39;00m\u001B[38;5;124m3d\u001B[39m\u001B[38;5;132;01m}\u001B[39;00m\u001B[38;5;124m LR=\u001B[39m\u001B[38;5;132;01m{\u001B[39;00mlr\u001B[38;5;132;01m:\u001B[39;00m\u001B[38;5;124m.3g\u001B[39m\u001B[38;5;132;01m}\u001B[39;00m\u001B[38;5;124m → R²=\u001B[39m\u001B[38;5;132;01m{\u001B[39;00mmean_r2\u001B[38;5;132;01m:\u001B[39;00m\u001B[38;5;124m.4f\u001B[39m\u001B[38;5;132;01m}\u001B[39;00m\u001B[38;5;124m\"\u001B[39m)\n\u001B[1;32m     73\u001B[0m     \u001B[38;5;28;01mif\u001B[39;00m mean_r2 \u001B[38;5;241m>\u001B[39m best[\u001B[38;5;124m'\u001B[39m\u001B[38;5;124mscore\u001B[39m\u001B[38;5;124m'\u001B[39m]:\n",
      "Cell \u001B[0;32mIn[3], line 21\u001B[0m, in \u001B[0;36mcross_val_mlp\u001B[0;34m(X, y, k_fold, layer_sizes, activation, epochs, lr)\u001B[0m\n\u001B[1;32m     18\u001B[0m X_te_n \u001B[38;5;241m=\u001B[39m scaler\u001B[38;5;241m.\u001B[39mtransform(X_te)\n\u001B[1;32m     20\u001B[0m \u001B[38;5;66;03m# Treina\u001B[39;00m\n\u001B[0;32m---> 21\u001B[0m W, loss_hist \u001B[38;5;241m=\u001B[39m \u001B[43mreg_mlp\u001B[49m\u001B[38;5;241;43m.\u001B[39;49m\u001B[43mtrain_mlp_regression\u001B[49m\u001B[43m(\u001B[49m\n\u001B[1;32m     22\u001B[0m \u001B[43m    \u001B[49m\u001B[43mX_tr_n\u001B[49m\u001B[43m,\u001B[49m\u001B[43m \u001B[49m\u001B[43my_tr\u001B[49m\u001B[43m,\u001B[49m\n\u001B[1;32m     23\u001B[0m \u001B[43m    \u001B[49m\u001B[43mlayer_sizes\u001B[49m\u001B[38;5;241;43m=\u001B[39;49m\u001B[43mlayer_sizes\u001B[49m\u001B[43m,\u001B[49m\u001B[43m           \u001B[49m\u001B[38;5;66;43;03m# ex.: [D, H1, H2, 1]\u001B[39;49;00m\n\u001B[1;32m     24\u001B[0m \u001B[43m    \u001B[49m\u001B[43mepochs\u001B[49m\u001B[38;5;241;43m=\u001B[39;49m\u001B[43mepochs\u001B[49m\u001B[43m,\u001B[49m\n\u001B[1;32m     25\u001B[0m \u001B[43m    \u001B[49m\u001B[43meta_i\u001B[49m\u001B[38;5;241;43m=\u001B[39;49m\u001B[43mlr\u001B[49m\u001B[43m,\u001B[49m\u001B[43m \u001B[49m\u001B[43meta_f\u001B[49m\u001B[38;5;241;43m=\u001B[39;49m\u001B[43mlr\u001B[49m\u001B[43m,\u001B[49m\n\u001B[1;32m     26\u001B[0m \u001B[43m    \u001B[49m\u001B[43mhidden_activation\u001B[49m\u001B[38;5;241;43m=\u001B[39;49m\u001B[43mactivation\u001B[49m\u001B[43m,\u001B[49m\n\u001B[1;32m     27\u001B[0m \u001B[43m    \u001B[49m\u001B[43moutput_activation\u001B[49m\u001B[38;5;241;43m=\u001B[39;49m\u001B[38;5;124;43m'\u001B[39;49m\u001B[38;5;124;43mlinear\u001B[39;49m\u001B[38;5;124;43m'\u001B[39;49m\u001B[43m,\u001B[49m\n\u001B[1;32m     28\u001B[0m \u001B[43m    \u001B[49m\u001B[43mverbose\u001B[49m\u001B[38;5;241;43m=\u001B[39;49m\u001B[38;5;28;43;01mFalse\u001B[39;49;00m\n\u001B[1;32m     29\u001B[0m \u001B[43m\u001B[49m\u001B[43m)\u001B[49m\n\u001B[1;32m     30\u001B[0m fold_losses\u001B[38;5;241m.\u001B[39mappend(loss_hist)\n\u001B[1;32m     32\u001B[0m \u001B[38;5;66;03m# Previsão\u001B[39;00m\n",
      "File \u001B[0;32m~/Documents/Github/Trabalhos_IC_Aplicada/trabalho_ic_aplicada/models/reg_mlp.py:256\u001B[0m, in \u001B[0;36mtrain_mlp_regression\u001B[0;34m(X_train, y_train, layer_sizes, epochs, eta_i, eta_f, hidden_activation, output_activation, verbose)\u001B[0m\n\u001B[1;32m    253\u001B[0m y_target \u001B[38;5;241m=\u001B[39m y_train_shuffled[i]\n\u001B[1;32m    255\u001B[0m \u001B[38;5;66;03m# Forward pass\u001B[39;00m\n\u001B[0;32m--> 256\u001B[0m activations, z_values \u001B[38;5;241m=\u001B[39m \u001B[43mforward_pass\u001B[49m\u001B[43m(\u001B[49m\u001B[43mx_sample\u001B[49m\u001B[43m,\u001B[49m\u001B[43m \u001B[49m\u001B[43mweights\u001B[49m\u001B[43m,\u001B[49m\n\u001B[1;32m    257\u001B[0m \u001B[43m                                   \u001B[49m\u001B[43mhidden_activation\u001B[49m\u001B[43m,\u001B[49m\u001B[43m \u001B[49m\u001B[43moutput_activation\u001B[49m\u001B[43m)\u001B[49m\n\u001B[1;32m    259\u001B[0m \u001B[38;5;66;03m# Backward pass\u001B[39;00m\n\u001B[1;32m    260\u001B[0m gradients, error \u001B[38;5;241m=\u001B[39m backward_pass(activations, z_values, weights,\n\u001B[1;32m    261\u001B[0m                                y_target, hidden_activation, output_activation)\n",
      "File \u001B[0;32m~/Documents/Github/Trabalhos_IC_Aplicada/trabalho_ic_aplicada/models/reg_mlp.py:117\u001B[0m, in \u001B[0;36mforward_pass\u001B[0;34m(x_sample, weights, hidden_activation, output_activation)\u001B[0m\n\u001B[1;32m    113\u001B[0m current_input \u001B[38;5;241m=\u001B[39m x_sample\n\u001B[1;32m    115\u001B[0m \u001B[38;5;28;01mfor\u001B[39;00m i, W \u001B[38;5;129;01min\u001B[39;00m \u001B[38;5;28menumerate\u001B[39m(weights):\n\u001B[1;32m    116\u001B[0m     \u001B[38;5;66;03m# Add bias term\u001B[39;00m\n\u001B[0;32m--> 117\u001B[0m     current_input_with_bias \u001B[38;5;241m=\u001B[39m \u001B[43mnp\u001B[49m\u001B[38;5;241;43m.\u001B[39;49m\u001B[43minsert\u001B[49m\u001B[43m(\u001B[49m\u001B[43mcurrent_input\u001B[49m\u001B[43m,\u001B[49m\u001B[43m \u001B[49m\u001B[38;5;241;43m0\u001B[39;49m\u001B[43m,\u001B[49m\u001B[43m \u001B[49m\u001B[38;5;241;43m-\u001B[39;49m\u001B[38;5;241;43m1\u001B[39;49m\u001B[43m)\u001B[49m\n\u001B[1;32m    119\u001B[0m     \u001B[38;5;66;03m# Linear combination\u001B[39;00m\n\u001B[1;32m    120\u001B[0m     z \u001B[38;5;241m=\u001B[39m W \u001B[38;5;241m@\u001B[39m current_input_with_bias\n",
      "File \u001B[0;32m~/Documents/Github/Trabalhos_IC_Aplicada/.venv/lib/python3.10/site-packages/numpy/lib/_function_base_impl.py:5587\u001B[0m, in \u001B[0;36minsert\u001B[0;34m(arr, obj, values, axis)\u001B[0m\n\u001B[1;32m   5583\u001B[0m         \u001B[38;5;28;01mraise\u001B[39;00m \u001B[38;5;167;01mValueError\u001B[39;00m(\n\u001B[1;32m   5584\u001B[0m             \u001B[38;5;124m\"\u001B[39m\u001B[38;5;124mindex array argument obj to insert must be one dimensional \u001B[39m\u001B[38;5;124m\"\u001B[39m\n\u001B[1;32m   5585\u001B[0m             \u001B[38;5;124m\"\u001B[39m\u001B[38;5;124mor scalar\u001B[39m\u001B[38;5;124m\"\u001B[39m)\n\u001B[1;32m   5586\u001B[0m \u001B[38;5;28;01mif\u001B[39;00m indices\u001B[38;5;241m.\u001B[39msize \u001B[38;5;241m==\u001B[39m \u001B[38;5;241m1\u001B[39m:\n\u001B[0;32m-> 5587\u001B[0m     index \u001B[38;5;241m=\u001B[39m \u001B[43mindices\u001B[49m\u001B[38;5;241;43m.\u001B[39;49m\u001B[43mitem\u001B[49m\u001B[43m(\u001B[49m\u001B[43m)\u001B[49m\n\u001B[1;32m   5588\u001B[0m     \u001B[38;5;28;01mif\u001B[39;00m index \u001B[38;5;241m<\u001B[39m \u001B[38;5;241m-\u001B[39mN \u001B[38;5;129;01mor\u001B[39;00m index \u001B[38;5;241m>\u001B[39m N:\n\u001B[1;32m   5589\u001B[0m         \u001B[38;5;28;01mraise\u001B[39;00m \u001B[38;5;167;01mIndexError\u001B[39;00m(\u001B[38;5;124mf\u001B[39m\u001B[38;5;124m\"\u001B[39m\u001B[38;5;124mindex \u001B[39m\u001B[38;5;132;01m{\u001B[39;00mobj\u001B[38;5;132;01m}\u001B[39;00m\u001B[38;5;124m is out of bounds for axis \u001B[39m\u001B[38;5;132;01m{\u001B[39;00maxis\u001B[38;5;132;01m}\u001B[39;00m\u001B[38;5;124m \u001B[39m\u001B[38;5;124m\"\u001B[39m\n\u001B[1;32m   5590\u001B[0m                          \u001B[38;5;124mf\u001B[39m\u001B[38;5;124m\"\u001B[39m\u001B[38;5;124mwith size \u001B[39m\u001B[38;5;132;01m{\u001B[39;00mN\u001B[38;5;132;01m}\u001B[39;00m\u001B[38;5;124m\"\u001B[39m)\n",
      "\u001B[0;31mKeyboardInterrupt\u001B[0m: "
     ]
    }
   ],
   "execution_count": 4,
   "source": [
    "\n",
    "# best_cfg = grid_search(X, y, k_fold,\n",
    "#                        hidden_units, activations,\n",
    "#                        epochs_list, learning_rates)\n",
    "\n",
    "# 2) Treino final com CV para coletar tudo\n",
    "ls   = best_cfg['layer_sizes']\n",
    "act  = best_cfg['activation']\n",
    "ep   = best_cfg['epochs']\n",
    "lr   = best_cfg['lr']\n",
    "\n",
    "all_train_losses = []\n",
    "y_tr_all, y_trp_all = [], []\n",
    "y_te_all, y_tep_all   = [], []\n",
    "cor_tr, cor_te = [], []\n",
    "\n",
    "for train_idx, test_idx in k_fold:\n",
    "    X_tr, X_te = X[train_idx], X[test_idx]\n",
    "    y_tr, y_te = y[train_idx].reshape(-1,1), y[test_idx].reshape(-1,1)\n",
    "    scaler = QuantileTransformer(n_quantiles=min(X_tr.shape[0],1000), output_distribution='uniform')\n",
    "    X_tr_n = scaler.fit_transform(X_tr)\n",
    "    X_te_n = scaler.transform(X_te)\n",
    "\n",
    "    W, loss_hist = reg_mlp.train_mlp_regression(\n",
    "        X_tr_n, y_tr, layer_sizes=ls,\n",
    "        epochs=ep, eta_i=lr, eta_f=lr,\n",
    "        hidden_activation=act, output_activation='linear',\n",
    "        verbose=False\n",
    "    )\n",
    "    all_train_losses.append(loss_hist)\n",
    "\n",
    "    y_trp = reg_mlp.predict_mlp_regression(X_tr_n, W, act, 'linear').reshape(-1,1)\n",
    "    y_tep = reg_mlp.predict_mlp_regression(X_te_n, W, act, 'linear').reshape(-1,1)\n",
    "\n",
    "    cor_tr.append(np.corrcoef(y_tr.flatten(), y_trp.flatten())[0,1])\n",
    "    cor_te.append(np.corrcoef(y_te.flatten(), y_tep.flatten())[0,1])\n",
    "\n",
    "    y_tr_all .extend(y_tr.flatten())\n",
    "    y_trp_all.extend(y_trp.flatten())\n",
    "    y_te_all .extend(y_te.flatten())\n",
    "    y_tep_all.extend(y_tep.flatten())\n",
    "\n",
    "# 3) Métricas finais\n",
    "eqms, reqms, r2s, h20, h10, _ = aux.calcular_metricas(\n",
    "    np.array(y_te_all), np.array(y_tep_all), aux)\n",
    "aux.imprimir_metricas(eqms, reqms, r2s, h20, h10)\n",
    "aux.imprimir_correlacoes(cor_tr, cor_te, r2s)\n",
    "aux.analisar_residuos(\n",
    "    np.array(y_tr_all), np.array(y_trp_all),\n",
    "    np.array(y_te_all), np.array(y_tep_all),\n",
    "    aux, titulo=\"MLP Final\"\n",
    ")\n",
    "\n",
    "# 4) Plots de loss\n",
    "aux.plot_folds_loss(all_train_losses)\n"
   ],
   "id": "5bff4b80b61e66c5"
  }
 ],
 "metadata": {
  "kernelspec": {
   "display_name": "Python 3",
   "language": "python",
   "name": "python3"
  },
  "language_info": {
   "codemirror_mode": {
    "name": "ipython",
    "version": 2
   },
   "file_extension": ".py",
   "mimetype": "text/x-python",
   "name": "python",
   "nbconvert_exporter": "python",
   "pygments_lexer": "ipython2",
   "version": "2.7.6"
  }
 },
 "nbformat": 4,
 "nbformat_minor": 5
}
